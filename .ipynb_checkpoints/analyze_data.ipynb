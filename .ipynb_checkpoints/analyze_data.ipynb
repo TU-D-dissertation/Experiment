{
 "cells": [
  {
   "cell_type": "code",
   "execution_count": 28,
   "id": "76905166-219d-406a-8c02-7cc96b3f608d",
   "metadata": {},
   "outputs": [],
   "source": [
    "import matplotlib.pyplot as plt\n",
    "import json"
   ]
  },
  {
   "cell_type": "code",
   "execution_count": 29,
   "id": "cb920583-ceef-45e4-ac57-3364b0fd892b",
   "metadata": {},
   "outputs": [],
   "source": [
    "smells = json.load(open('code_smells.json','r'))"
   ]
  },
  {
   "cell_type": "code",
   "execution_count": 30,
   "id": "bb178861-a9dc-4692-a948-76c1af086517",
   "metadata": {},
   "outputs": [],
   "source": [
    "xAxis = [key for key in smells.keys()]\n",
    "yAxis = [value for value in smells.values()]"
   ]
  },
  {
   "cell_type": "code",
   "execution_count": 33,
   "id": "54c4af4d-a179-4a32-898f-c82bc0c366fa",
   "metadata": {},
   "outputs": [
    {
     "ename": "NameError",
     "evalue": "name 'top_10_smells' is not defined",
     "output_type": "error",
     "traceback": [
      "\u001b[0;31m---------------------------------------------------------------------------\u001b[0m",
      "\u001b[0;31mNameError\u001b[0m                                 Traceback (most recent call last)",
      "Cell \u001b[0;32mIn[33], line 3\u001b[0m\n\u001b[1;32m      1\u001b[0m \u001b[38;5;66;03m# 막대 그래프 그리기\u001b[39;00m\n\u001b[1;32m      2\u001b[0m plt\u001b[38;5;241m.\u001b[39mfigure(figsize\u001b[38;5;241m=\u001b[39m(\u001b[38;5;241m12\u001b[39m, \u001b[38;5;241m6\u001b[39m))  \u001b[38;5;66;03m# 그래프의 크기 설정\u001b[39;00m\n\u001b[0;32m----> 3\u001b[0m bars \u001b[38;5;241m=\u001b[39m plt\u001b[38;5;241m.\u001b[39mbar(\u001b[38;5;28mrange\u001b[39m(\u001b[38;5;28mlen\u001b[39m(top_10_smells)), yAxis, width\u001b[38;5;241m=\u001b[39m\u001b[38;5;241m0.5\u001b[39m, color\u001b[38;5;241m=\u001b[39m\u001b[38;5;124m'\u001b[39m\u001b[38;5;124mblue\u001b[39m\u001b[38;5;124m'\u001b[39m)\n\u001b[1;32m      5\u001b[0m \u001b[38;5;66;03m# 막대 위에 숫자 표시\u001b[39;00m\n\u001b[1;32m      6\u001b[0m \u001b[38;5;28;01mfor\u001b[39;00m bar \u001b[38;5;129;01min\u001b[39;00m bars:\n",
      "\u001b[0;31mNameError\u001b[0m: name 'top_10_smells' is not defined"
     ]
    },
    {
     "data": {
      "text/plain": [
       "<Figure size 1200x600 with 0 Axes>"
      ]
     },
     "metadata": {},
     "output_type": "display_data"
    }
   ],
   "source": [
    "plt.figure(figsize=(12, 6)) \n",
    "bars = plt.bar(range(len(smells)), yAxis, width=0.5, color='blue')\n",
    "\n",
    "\n",
    "for bar in bars:\n",
    "    yval = bar.get_height()\n",
    "    plt.text(bar.get_x() + bar.get_width()/2.0, yval, int(yval), va='bottom')\n",
    "\n",
    "plt.xticks(range(len(smells)), xAxis, rotation=90)\n",
    "\n",
    "plt.xlabel('Issues')\n",
    "plt.ylabel('Occurrences')\n",
    "plt.title('Top 20 Code Smells')\n",
    "\n",
    "plt.tight_layout()  \n",
    "plt.show()"
   ]
  }
 ],
 "metadata": {
  "kernelspec": {
   "display_name": "Python 3 (ipykernel)",
   "language": "python",
   "name": "python3"
  },
  "language_info": {
   "codemirror_mode": {
    "name": "ipython",
    "version": 3
   },
   "file_extension": ".py",
   "mimetype": "text/x-python",
   "name": "python",
   "nbconvert_exporter": "python",
   "pygments_lexer": "ipython3",
   "version": "3.11.7"
  }
 },
 "nbformat": 4,
 "nbformat_minor": 5
}
